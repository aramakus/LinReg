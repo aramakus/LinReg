{
 "cells": [
  {
   "cell_type": "code",
   "execution_count": 1,
   "id": "visible-nudist",
   "metadata": {
    "ExecuteTime": {
     "end_time": "2022-04-02T07:36:20.545496Z",
     "start_time": "2022-04-02T07:36:19.438383Z"
    }
   },
   "outputs": [],
   "source": [
    "import numpy as np\n",
    "import matplotlib.pyplot as plt\n",
    "import seaborn as sns\n",
    "import pandas as pd"
   ]
  },
  {
   "cell_type": "code",
   "execution_count": 2,
   "id": "crazy-architecture",
   "metadata": {
    "ExecuteTime": {
     "end_time": "2022-04-02T07:36:20.554846Z",
     "start_time": "2022-04-02T07:36:20.548584Z"
    }
   },
   "outputs": [],
   "source": [
    "sns.set_context(\"notebook\", font_scale=1.5)\n",
    "sns.set_palette(\"tab10\")"
   ]
  },
  {
   "cell_type": "markdown",
   "id": "concrete-barbados",
   "metadata": {},
   "source": [
    "# Into"
   ]
  },
  {
   "cell_type": "markdown",
   "id": "twelve-snake",
   "metadata": {},
   "source": [
    "By its nature, statistical tests give an answer to questions like:\n",
    "- *What is the probability of the observed difference be due to pure chance? (Q1)*\n",
    "\n",
    "For an actionalbe insight, a yes/no question is often preffered. In abstract terms, we seek to answer another question: <br>\n",
    "- *Based on the observations, can we reject the null hypothesis $H_0$? (Q2)*\n",
    "\n",
    "where the **null hypothesis** $H_0$ refers to a statement that the treatment has no effect on the outcome. In terms of the business problem, the above question can sound something like <br>\n",
    "- *Does the new website design improve the subscription rate by at least 1.5 %?*\n",
    "\n",
    "In this case, $H_0$ will be the statement that *the new website design does not improve the subscription rate by at least 1.5 %*\n",
    "\n",
    "Before jumping into experiments, couple things need to be done. To reconsile two questions and avoid bias in interpreting result, [two things](https://en.wikipedia.org/wiki/Type_I_and_type_II_errors) have to be set prior to carrying out the experiment. \n",
    "\n",
    "<table>\n",
    "    <thead>\n",
    "        <tr>\n",
    "            <th colspan=2> </th>\n",
    "            <th colspan=2 style=\"text-align:center\"> Null Hypothesis Actually is </th>\n",
    "        </tr>\n",
    "    </thead>\n",
    "    <tbody>\n",
    "        <tr>\n",
    "            <td></td>\n",
    "            <th style=\"text-align:center\">Decision</th>\n",
    "            <th style=\"text-align:center\">True</th>\n",
    "            <th style=\"text-align:center\">False</th>\n",
    "        </tr>\n",
    "        <tr>\n",
    "            <th rowspan=2 style=\"text-align:center\">Decision<br>about<br>Null Hypothesis</th>\n",
    "            <th>Don't<br>Reject</th>\n",
    "            <td style=\"text-align:center\">Correct Decision <br>(true positive)<br> probability = $1 - \\alpha$</td>\n",
    "            <td style=\"text-align:center\">Type 2 Error <br>(false negative)<br> probability = $\\beta$</td>\n",
    "        </tr>\n",
    "        <tr>\n",
    "            <th>Reject</th>\n",
    "            <td style=\"text-align:center\">Type 1 Error <br>(false positive)<br> probability = $\\alpha$</td>\n",
    "            <td style=\"text-align:center\">Correct Decision <br>(True negative)<br> probability = $1 - \\beta$</td>\n",
    "        </tr>\n",
    "    </tbody>\n",
    "</table>\n",
    "\n",
    "The first one is the probability threshold $\\alpha$, also known as **sensitivity**. Lets assume that $H_0$ was actually correct, treatment made no difference. If the estimated probability from *Q1* is at or below $\\alpha$, we incorrectly reject null hypothesis and conclude that the treatment made a difference. In particular, there is a less than $\\alpha$ chance that the observed effect was purely due to random chance, which is reffered to as the type 1 Error. The latter means that we are willing to tollerate the potentially incorrect decision to reject $H_0$ if the probability of such a scenario is no more than $\\alpha$.\n",
    "\n",
    "The second one probability threshold $\\beta$ considers the scenario when $H_0$ is actually incorrect, but the experiment indicates that it is correct. The complementary probability, $1 - \\beta$, is referred to as statistical **power** and describes a degree of certainty we want to have in been correct if we decide to reject $H_0$. In other words, statistical power gives us an expected fraction of correctly rejecting incorrect null hypothesis if we run many such experiments."
   ]
  },
  {
   "cell_type": "markdown",
   "id": "exempt-pontiac",
   "metadata": {},
   "source": [
    "# Example problem to test\n",
    "\n",
    "The objective is to quantify the effect of treatment on the probability of a certain outcome. A classic example is whenever a new website interface improves the sales at or above certain threshold. Or what is the effect of medication on the probability of a patient developing a severe form of the disease."
   ]
  },
  {
   "cell_type": "markdown",
   "id": "forty-level",
   "metadata": {},
   "source": [
    "> \"Does the new website design improve the subscription rate by at least 1.5 %?\"\n",
    "\n",
    "As an example, we seek to answer the above question. In the simplest case, we assume that\n",
    "- For the experiment, customers are selected at random from a cohort that represents the target audience\n",
    "- Customers make decisions independent of each other\n",
    "- Customer traffic is split into two groups, **A** and **B**, depending on which version the website, new or old, they were presented with\n",
    "\n",
    "Under these assumptions, the probability distribution for a number of subscriptions in each group is given by the binomial distribution with probabilities of a customer subscribing are $p_A$ and $p_B$ respectively. In addition, lets assume that for the old version of the website there is a good estimate for the value of subscription probability $p_A$, which is $8.5\\%$. From this point, we can use 5 steps [100 Statistical Test](https://www.amazon.com/Statistical-Tests-Third-Gopal-Kanji/dp/141292376X) as a guide to setup the experiment"
   ]
  },
  {
   "cell_type": "markdown",
   "id": "afraid-sellers",
   "metadata": {},
   "source": [
    "**Step 1: Null Hypothesis**\n",
    "> The null hypothesis states that $p_B - p_A < 0.015$, so that the new website design has less than the desired effect on the subscription probability.\n",
    "\n",
    "In the language of mathematics, the null hypothesis $H_0$ states that $\\mu =  p_B - p_A = 0.015$."
   ]
  },
  {
   "cell_type": "markdown",
   "id": "wrong-burden",
   "metadata": {},
   "source": [
    "**Step 2: Sensitivity and Power**\n",
    "\n",
    "Next, we need to select values of sensitivity and power that we are comfortable with. Usually, $\\alpha$ for sensitivity is selected to be between 1 and 10 percent, while for power $1 - \\beta$ is of the order of at least 80 percent. For this example lets set\n",
    "\n",
    "> $$\\alpha = 0.05$$ $$1 - \\beta = 0.8$$\n",
    "\n",
    "These values come from classical literature and aim to strike a balance between detecting the effect of treatment if it is present, while reducing the cost of collecting the data. For more detailed discussion check out p. 17 in [Statistical Power Analysis\n",
    "for the Behavioral Sciences](http://www.utstat.toronto.edu/~brunner/oldclass/378f16/readings/CohenPower.pdf) and p. 54, 55 in [The Essential Guide to Effect Sizes](https://www.cambridge.org/core/books/essential-guide-to-effect-sizes/72C26CA99366A19CAC4EF5B16AE3297F)."
   ]
  },
  {
   "cell_type": "markdown",
   "id": "valued-rogers",
   "metadata": {},
   "source": [
    "**Step 3: Test statistic**\n",
    "\n",
    "If the number of customers $N_A$ and $N_B$ is sufficiently large, we can invoke [Central Limit Theorem](https://en.wikipedia.org/wiki/Central_limit_theorem) to describe the probability distributions of the subscription number means in each group\n",
    "$$\\overline x_A \\sim N(p_A, \\sigma_A)$$\n",
    "$$\\overline x_B \\sim N(p_B, \\sigma_B)$$\n",
    "\n",
    "where $N(\\mu, \\sigma)$ is a normal distribution. For the test statistic $Z$, we can use the rule for a [sum of normally distributed random variables](https://en.wikipedia.org/wiki/Sum_of_normally_distributed_random_variables)\n",
    "\n",
    "> $$Z = \\frac{\\overline x_B - \\overline x_A - \\mu}{(\\sigma_A + \\sigma_B)^{1/2}} \\sim N(0, 1)$$\n",
    "\n",
    "If the [p-value](https://en.wikipedia.org/wiki/P-value) for the test statistic is at or below $\\alpha = 0.05$, we must reject $H_0$ and accept an alternative hypothesis $H_1$ that version **B** of the website does improve the subscription rate by $1.5 \\%$ or more than the current version **A**."
   ]
  },
  {
   "cell_type": "markdown",
   "id": "quiet-miller",
   "metadata": {},
   "source": [
    "**Step 4: Confidence Interval for test statistic**\n",
    "\n",
    "Based on test statistic $Z$ and sensitivity $\\alpha$, select critical region. It is evident from the null hypothesis that we need to use a one-tail region only. Since $Z$ is described by a normal probability distribution function (pdf), the value critical is $Z_c \\approx 1.64$. The corresponding cumulative distribution function for this critical value $Z_c$ covers $100\\times(1 - \\alpha) = 95 \\%$ interval. Should the value of test statistic fall inside the interval $(-\\infty, Z_c)$, we accept null hypothesis, otherwise we accept an alternative hypothesis."
   ]
  },
  {
   "cell_type": "markdown",
   "id": "employed-senegal",
   "metadata": {},
   "source": [
    "**Step 5: Effect Size and Sample Size**\n",
    "\n",
    "Finally, lets estimate a minimal sample size required to achieve desired statistical power. In addition to sensitivity and power, [effect size](https://en.wikipedia.org/wiki/Effect_size) needs to be evaluated, which requires *a priori* information and / or assumptions. For equal number customers in both groups with the assumption that this number is sufficiently large (so that the sampling distribution is well approximated a normal one), Cohen's *D* can be used to approximate effect size\n",
    "\n",
    "$$D = \\frac{|p_B - p_A|}{\\sigma}$$\n",
    "\n",
    "where $\\sigma^2 = s_A^2 + s_B^2$ and $s_{A(B)} = \\sqrt{p_{A(B)}(1 - p_{A(B)})}$. With the value of subscription rate of $8.5\\%$ from the old website and an additional $1.5\\%$ from the new website, we obtain"
   ]
  },
  {
   "cell_type": "code",
   "execution_count": 3,
   "id": "08689ee7",
   "metadata": {
    "ExecuteTime": {
     "end_time": "2022-04-02T07:36:20.574214Z",
     "start_time": "2022-04-02T07:36:20.561117Z"
    }
   },
   "outputs": [
    {
     "data": {
      "text/plain": [
       "0.023858603450082772"
      ]
     },
     "execution_count": 3,
     "metadata": {},
     "output_type": "execute_result"
    }
   ],
   "source": [
    "p_A = 0.085\n",
    "p_B = 0.11\n",
    "\n",
    "s_A = np.sqrt(p_A * (1 - p_A))\n",
    "s_B = np.sqrt(p_B * (1 - p_B))\n",
    "S = np.sqrt(s_A**2 + s_B**2)\n",
    "VALUE = 0.015 # improvement value\n",
    "\n",
    "\n",
    "D = np.abs(p_B - p_A - VALUE)/S\n",
    "D"
   ]
  },
  {
   "cell_type": "markdown",
   "id": "c48c14dc",
   "metadata": {},
   "source": [
    "With all pieces of the puzzle in place, we can proceed to estimating the sample size the above effect size, sensitivity and power. Pythons ```statsmodel``` package comes handy for this task"
   ]
  },
  {
   "cell_type": "code",
   "execution_count": 4,
   "id": "0ed482f4",
   "metadata": {
    "ExecuteTime": {
     "end_time": "2022-04-02T07:36:20.594412Z",
     "start_time": "2022-04-02T07:36:20.576944Z"
    }
   },
   "outputs": [
    {
     "data": {
      "text/plain": [
       "21722.41483512319"
      ]
     },
     "execution_count": 4,
     "metadata": {},
     "output_type": "execute_result"
    }
   ],
   "source": [
    "from statsmodels.stats.power import NormalIndPower\n",
    "\n",
    "ALPHA = 0.05\n",
    "BETA = 0.2\n",
    "\n",
    "PowerAnalysis = NormalIndPower()\n",
    "\n",
    "N_total = PowerAnalysis.solve_power(effect_size=D, alpha=ALPHA, power=1 - BETA, alternative=\"larger\", ratio=1)\n",
    "N_total"
   ]
  },
  {
   "cell_type": "markdown",
   "id": "31a81f68",
   "metadata": {},
   "source": [
    "Under the hood, this involves numerically solving this [equation](https://en.wikipedia.org/wiki/Power_of_a_test) for $N_{A(B)}$\n",
    "\n",
    "$$\\beta = \\Phi(Z_c - D\\times\\sqrt{N_{A(B)}})$$\n",
    "\n",
    "where function $\\Phi$ is a probit function, an inverse of cumulative distribution function (CDF) for the normal didistribution. With power $1 - \\beta = 0.8$ we can verify this by substituting the result into a CDF for the normal distribution, which should be equal to $\\beta = 0.2$."
   ]
  },
  {
   "cell_type": "code",
   "execution_count": 5,
   "id": "c1836cbd",
   "metadata": {
    "ExecuteTime": {
     "end_time": "2022-04-02T07:36:20.605294Z",
     "start_time": "2022-04-02T07:36:20.598152Z"
    }
   },
   "outputs": [
    {
     "data": {
      "text/plain": [
       "0.19864394616897701"
      ]
     },
     "execution_count": 5,
     "metadata": {},
     "output_type": "execute_result"
    }
   ],
   "source": [
    "from scipy.stats import norm\n",
    "\n",
    "Zc = 1.64\n",
    "\n",
    "norm.cdf(Zc - D*np.sqrt(N_total/2))"
   ]
  },
  {
   "cell_type": "markdown",
   "id": "neutral-defensive",
   "metadata": {},
   "source": [
    "# Experiments\n",
    "> With everything set up, lets consider three cases for how the real magnitude of the subscription rate in group **B** compares to the estimated one"
   ]
  },
  {
   "cell_type": "code",
   "execution_count": 6,
   "id": "occasional-sapphire",
   "metadata": {
    "ExecuteTime": {
     "end_time": "2022-04-02T07:36:20.614865Z",
     "start_time": "2022-04-02T07:36:20.607362Z"
    }
   },
   "outputs": [],
   "source": [
    "from statsmodels.stats.weightstats import ztest"
   ]
  },
  {
   "cell_type": "code",
   "execution_count": 7,
   "id": "measured-arbor",
   "metadata": {
    "ExecuteTime": {
     "end_time": "2022-04-02T07:36:20.622033Z",
     "start_time": "2022-04-02T07:36:20.616749Z"
    }
   },
   "outputs": [
    {
     "name": "stdout",
     "output_type": "stream",
     "text": [
      "Groups A and B have 10862 samples each\n"
     ]
    }
   ],
   "source": [
    "# Get number of samples in each group\n",
    "N = np.ceil(N_total/2).astype(int)\n",
    "\n",
    "print(f\"Groups A and B have {N} samples each\")"
   ]
  },
  {
   "cell_type": "code",
   "execution_count": 8,
   "id": "distant-testing",
   "metadata": {
    "ExecuteTime": {
     "end_time": "2022-04-02T07:36:20.631929Z",
     "start_time": "2022-04-02T07:36:20.626404Z"
    }
   },
   "outputs": [],
   "source": [
    "# Setup the dummy data generation and run test\n",
    "def run_ztest(p0, p1, N_samples, value):\n",
    "    # generate data\n",
    "    data_0 = np.random.binomial(1, p0, N_samples)\n",
    "    data_1 = np.random.binomial(1, p1, N_samples)\n",
    "    \n",
    "    # run Z-test\n",
    "    result = ztest(data_1, data_0, alternative=\"larger\", value=value)\n",
    "    \n",
    "    return result"
   ]
  },
  {
   "cell_type": "markdown",
   "id": "smaller-horror",
   "metadata": {},
   "source": [
    "## Under the hood"
   ]
  },
  {
   "cell_type": "code",
   "execution_count": 9,
   "id": "durable-momentum",
   "metadata": {
    "ExecuteTime": {
     "end_time": "2022-04-02T07:36:20.639480Z",
     "start_time": "2022-04-02T07:36:20.635220Z"
    }
   },
   "outputs": [],
   "source": [
    "# example data\n",
    "data_A = np.random.binomial(1, p_A, N)\n",
    "data_B = np.random.binomial(1, p_B, N)"
   ]
  },
  {
   "cell_type": "code",
   "execution_count": 10,
   "id": "embedded-playback",
   "metadata": {
    "ExecuteTime": {
     "end_time": "2022-04-02T07:36:20.647172Z",
     "start_time": "2022-04-02T07:36:20.641488Z"
    }
   },
   "outputs": [
    {
     "data": {
      "text/plain": [
       "2.0078846168308067"
      ]
     },
     "execution_count": 10,
     "metadata": {},
     "output_type": "execute_result"
    }
   ],
   "source": [
    "# Calculate test statistic\n",
    "Z = (np.mean(data_B) - np.mean(data_A) - 0.015) / np.sqrt(np.std(data_A)**2 / len(data_A) + np.std(data_B)**2 / len(data_B))\n",
    "Z"
   ]
  },
  {
   "cell_type": "code",
   "execution_count": 11,
   "id": "offshore-pierre",
   "metadata": {
    "ExecuteTime": {
     "end_time": "2022-04-02T07:36:20.654393Z",
     "start_time": "2022-04-02T07:36:20.649162Z"
    }
   },
   "outputs": [
    {
     "data": {
      "text/plain": [
       "(2.007792187681825, 0.02233268968203282)"
      ]
     },
     "execution_count": 11,
     "metadata": {},
     "output_type": "execute_result"
    }
   ],
   "source": [
    "# Run out of the box Z-test. First value is test statistic (Z), second is P-value\n",
    "ztest(data_B, data_A, alternative=\"larger\", value=0.015)"
   ]
  },
  {
   "cell_type": "markdown",
   "id": "engaging-conclusion",
   "metadata": {},
   "source": [
    "## Estimate for $p_B$ was spot on\n",
    "> $p_{true}$ = $p_B$"
   ]
  },
  {
   "cell_type": "code",
   "execution_count": 12,
   "id": "romance-greensboro",
   "metadata": {
    "ExecuteTime": {
     "end_time": "2022-04-02T07:36:20.659494Z",
     "start_time": "2022-04-02T07:36:20.656714Z"
    }
   },
   "outputs": [],
   "source": [
    "# Perfectly estimated value for version B subscription rate improvement\n",
    "p_true = 0.11"
   ]
  },
  {
   "cell_type": "code",
   "execution_count": 13,
   "id": "sitting-variation",
   "metadata": {
    "ExecuteTime": {
     "end_time": "2022-04-02T07:36:21.114061Z",
     "start_time": "2022-04-02T07:36:20.661814Z"
    }
   },
   "outputs": [],
   "source": [
    "np.random.seed(42)\n",
    "\n",
    "Zvalues = []\n",
    "Pvalues = []\n",
    "\n",
    "for _ in range(1000):\n",
    "    Z, p = run_ztest(p0=p_A, p1=p_true, N_samples=N, value=0.015)\n",
    "    \n",
    "    Zvalues.append(Z)\n",
    "    Pvalues.append(p)"
   ]
  },
  {
   "cell_type": "code",
   "execution_count": 14,
   "id": "identified-reunion",
   "metadata": {
    "ExecuteTime": {
     "end_time": "2022-04-02T07:36:21.122554Z",
     "start_time": "2022-04-02T07:36:21.116291Z"
    }
   },
   "outputs": [
    {
     "name": "stdout",
     "output_type": "stream",
     "text": [
      "Based on the test setup, the chance of making correct decision is 77.9%\n"
     ]
    }
   ],
   "source": [
    "correct_decision_percentage = np.mean(np.array(Pvalues) < ALPHA)\n",
    "correct_decision_percentage =  np.round(100 * correct_decision_percentage, 1)\n",
    "print(f\"Based on the test setup, the chance of making correct decision is {correct_decision_percentage}%\")"
   ]
  },
  {
   "cell_type": "code",
   "execution_count": 15,
   "id": "moving-colors",
   "metadata": {
    "ExecuteTime": {
     "end_time": "2022-04-02T07:36:21.539709Z",
     "start_time": "2022-04-02T07:36:21.125103Z"
    }
   },
   "outputs": [
    {
     "data": {
      "image/png": "[encoded data removed]",
      "text/plain": [
       "<Figure size 864x720 with 1 Axes>"
      ]
     },
     "metadata": {
      "needs_background": "light"
     },
     "output_type": "display_data"
    }
   ],
   "source": [
    "fig = plt.figure(figsize=(12, 10))\n",
    "\n",
    "sns.histplot(\n",
    "    data=pd.DataFrame(data=Zvalues, columns=[\"Z values\"]), \n",
    "    x=\"Z values\", \n",
    "    binwidth=0.1\n",
    ")\n",
    "\n",
    "plt.axvline(Zc, c=\"red\", ls=\"--\", lw=2)\n",
    "plt.text(0, 42, \"False Negative\\n(Accept $H_0$)\")\n",
    "plt.text(3, 42, \"Correct Decision\\n(Reject $H_0$)\")\n",
    "plt.title(f\"Test statistic histogram, p[True] = {p_true}\");"
   ]
  },
  {
   "cell_type": "markdown",
   "id": "oriental-aspect",
   "metadata": {},
   "source": [
    "Good estimate for $p_B$ allows to accurately estimate the effect size, the number of samples required to achive the target statistic power of $80\\%$. Running 1000 identical tests, correct decision will be made in $77.9\\%$."
   ]
  },
  {
   "cell_type": "markdown",
   "id": "existing-kitchen",
   "metadata": {},
   "source": [
    "## Estimate for $p_B$ was too optimistic\n",
    "> $p_{true}$ < $p_B$"
   ]
  },
  {
   "cell_type": "code",
   "execution_count": 16,
   "id": "hydraulic-edwards",
   "metadata": {
    "ExecuteTime": {
     "end_time": "2022-04-02T07:36:21.542685Z",
     "start_time": "2022-04-02T07:36:21.540723Z"
    }
   },
   "outputs": [],
   "source": [
    "# True value for version B is less than the estimated value - 10.5%, but still better than 1.5% improvement\n",
    "p_true = 0.105"
   ]
  },
  {
   "cell_type": "code",
   "execution_count": 17,
   "id": "diagnostic-sacrifice",
   "metadata": {
    "ExecuteTime": {
     "end_time": "2022-04-02T07:36:21.948403Z",
     "start_time": "2022-04-02T07:36:21.543677Z"
    }
   },
   "outputs": [],
   "source": [
    "np.random.seed(42)\n",
    "\n",
    "Zvalues = []\n",
    "Pvalues = []\n",
    "\n",
    "for _ in range(1000):\n",
    "    Z, p = run_ztest(p0=p_A, p1=p_true, N_samples=N, value=0.015)\n",
    "    \n",
    "    Zvalues.append(Z)\n",
    "    Pvalues.append(p)"
   ]
  },
  {
   "cell_type": "code",
   "execution_count": 18,
   "id": "revolutionary-bibliography",
   "metadata": {
    "ExecuteTime": {
     "end_time": "2022-04-02T07:36:21.952675Z",
     "start_time": "2022-04-02T07:36:21.949748Z"
    }
   },
   "outputs": [
    {
     "name": "stdout",
     "output_type": "stream",
     "text": [
      "Based on the test setup, the chance of making correct decision is 35.8%\n"
     ]
    }
   ],
   "source": [
    "correct_decision_percentage = np.mean(np.array(Pvalues) < ALPHA)\n",
    "correct_decision_percentage = np.round(100 * correct_decision_percentage, 1)\n",
    "print(f\"Based on the test setup, the chance of making correct decision is {correct_decision_percentage}%\")"
   ]
  },
  {
   "cell_type": "code",
   "execution_count": 19,
   "id": "aboriginal-pound",
   "metadata": {
    "ExecuteTime": {
     "end_time": "2022-04-02T07:36:22.177642Z",
     "start_time": "2022-04-02T07:36:21.955144Z"
    }
   },
   "outputs": [
    {
     "data": {
      "image/png": "[encoded data removed]",
      "text/plain": [
       "<Figure size 864x720 with 1 Axes>"
      ]
     },
     "metadata": {
      "needs_background": "light"
     },
     "output_type": "display_data"
    }
   ],
   "source": [
    "fig = plt.figure(figsize=(12, 10))\n",
    "\n",
    "sns.histplot(\n",
    "    data=pd.DataFrame(data=Zvalues, columns=[\"Z values\"]), \n",
    "    x=\"Z values\", \n",
    "    color=\"maroon\",\n",
    "    binwidth=0.1\n",
    ")\n",
    "\n",
    "plt.axvline(Zc, c=\"red\", ls=\"--\", lw=2)\n",
    "plt.text(-1, 42, \"False Negative\\n(Accept $H_0$)\")\n",
    "plt.text(2.5, 42, \"Correct Decision\\n(Reject $H_0$)\")\n",
    "plt.title(f\"Test statistic histogram, p[True] = {p_true}\");"
   ]
  },
  {
   "cell_type": "markdown",
   "id": "printable-princess",
   "metadata": {
    "ExecuteTime": {
     "end_time": "2022-03-27T11:14:46.790503Z",
     "start_time": "2022-03-27T11:14:46.785058Z"
    }
   },
   "source": [
    "Estimate for $p_B$ was too optimistic, resulting in overly high effect size. Running 1000 identical tests, correct decision will be made in $35.8\\%$."
   ]
  },
  {
   "cell_type": "markdown",
   "id": "auburn-huntington",
   "metadata": {},
   "source": [
    "## Estimate for $p_B$ was too pessimistic\n",
    "> $p_{true}$ > $p_B$"
   ]
  },
  {
   "cell_type": "code",
   "execution_count": 20,
   "id": "f804566b",
   "metadata": {
    "ExecuteTime": {
     "end_time": "2022-04-02T07:36:22.180759Z",
     "start_time": "2022-04-02T07:36:22.178707Z"
    }
   },
   "outputs": [],
   "source": [
    "# True value for version B exceeds the estimated value - 11.3%\n",
    "p_true = 0.113"
   ]
  },
  {
   "cell_type": "code",
   "execution_count": 21,
   "id": "509e2354",
   "metadata": {
    "ExecuteTime": {
     "end_time": "2022-04-02T07:36:22.639536Z",
     "start_time": "2022-04-02T07:36:22.182343Z"
    }
   },
   "outputs": [],
   "source": [
    "np.random.seed(42)\n",
    "\n",
    "Zvalues = []\n",
    "Pvalues = []\n",
    "\n",
    "for _ in range(1000):\n",
    "    Z, p = run_ztest(p0=p_A, p1=p_true, N_samples=N, value=0.015)\n",
    "    \n",
    "    Zvalues.append(Z)\n",
    "    Pvalues.append(p)"
   ]
  },
  {
   "cell_type": "code",
   "execution_count": 22,
   "id": "horizontal-cherry",
   "metadata": {
    "ExecuteTime": {
     "end_time": "2022-04-02T07:36:22.644037Z",
     "start_time": "2022-04-02T07:36:22.640841Z"
    }
   },
   "outputs": [
    {
     "name": "stdout",
     "output_type": "stream",
     "text": [
      "Based on the test setup, the chance of making correct decision is 93.6%\n"
     ]
    }
   ],
   "source": [
    "correct_decision_percentage = np.mean(np.array(Pvalues) < ALPHA)\n",
    "correct_decision_percentage = np.round(100*correct_decision_percentage, 1)\n",
    "print(f\"Based on the test setup, the chance of making correct decision is {correct_decision_percentage}%\")"
   ]
  },
  {
   "cell_type": "code",
   "execution_count": 23,
   "id": "harmful-vegetable",
   "metadata": {
    "ExecuteTime": {
     "end_time": "2022-04-02T07:36:22.891788Z",
     "start_time": "2022-04-02T07:36:22.645868Z"
    }
   },
   "outputs": [
    {
     "data": {
      "image/png": "[encoded data removed]",
      "text/plain": [
       "<Figure size 864x720 with 1 Axes>"
      ]
     },
     "metadata": {
      "needs_background": "light"
     },
     "output_type": "display_data"
    }
   ],
   "source": [
    "fig = plt.figure(figsize=(12, 10))\n",
    "\n",
    "sns.histplot(\n",
    "    data=pd.DataFrame(data=Zvalues, columns=[\"Z values\"]), \n",
    "    x=\"Z values\", \n",
    "    color=\"darkgreen\",\n",
    "    binwidth=0.1\n",
    ")\n",
    "\n",
    "plt.axvline(Zc, c=\"red\", ls=\"--\", lw=2)\n",
    "plt.text(0.2, 40, \"False Negative\\n(Accept $H_0$)\")\n",
    "plt.text(4.2, 40, \"Correct Decision\\n(Reject $H_0$)\")\n",
    "plt.title(f\"Test statistic histogram, p[True] = {p_true}\");"
   ]
  },
  {
   "cell_type": "markdown",
   "id": "protective-approach",
   "metadata": {
    "ExecuteTime": {
     "end_time": "2022-03-27T11:38:01.232841Z",
     "start_time": "2022-03-27T11:38:01.227542Z"
    }
   },
   "source": [
    "Estimate for $p_B$ was too pesimistic, resulting in overly conservative effect size. On the good side, running 1000 identical tests, correct decision will be made in $93.6\\%$."
   ]
  },
  {
   "cell_type": "code",
   "execution_count": null,
   "id": "ignored-popularity",
   "metadata": {},
   "outputs": [],
   "source": []
  }
 ],
 "metadata": {
  "kernelspec": {
   "display_name": "Python 3",
   "language": "python",
   "name": "python3"
  },
  "language_info": {
   "codemirror_mode": {
    "name": "ipython",
    "version": 3
   },
   "file_extension": ".py",
   "mimetype": "text/x-python",
   "name": "python",
   "nbconvert_exporter": "python",
   "pygments_lexer": "ipython3",
   "version": "3.8.5"
  },
  "toc": {
   "base_numbering": 1,
   "nav_menu": {},
   "number_sections": true,
   "sideBar": true,
   "skip_h1_title": false,
   "title_cell": "Table of Contents",
   "title_sidebar": "Contents",
   "toc_cell": false,
   "toc_position": {},
   "toc_section_display": true,
   "toc_window_display": false
  }
 },
 "nbformat": 4,
 "nbformat_minor": 5
}
